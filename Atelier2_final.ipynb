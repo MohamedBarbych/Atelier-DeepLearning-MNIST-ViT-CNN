{
 "cells": [
  {
   "cell_type": "code",
   "execution_count": 1,
   "id": "bfdcb0cd",
   "metadata": {},
   "outputs": [
    {
     "name": "stdout",
     "output_type": "stream",
     "text": [
      "Using device: cuda\n"
     ]
    }
   ],
   "source": [
    "\n",
    "# 🔧 Setup de base\n",
    "import torch\n",
    "import torchvision\n",
    "import torch.nn as nn\n",
    "import torch.optim as optim\n",
    "from torchvision import datasets, transforms, models\n",
    "from torch.utils.data import DataLoader\n",
    "from sklearn.metrics import accuracy_score, f1_score\n",
    "import matplotlib.pyplot as plt\n",
    "import pandas as pd\n",
    "import time\n",
    "\n",
    "device = torch.device(\"cuda\" if torch.cuda.is_available() else \"cpu\")\n",
    "print(\"Using device:\", device)\n"
   ]
  },
  {
   "cell_type": "code",
   "execution_count": 2,
   "id": "bb1d3142",
   "metadata": {},
   "outputs": [],
   "source": [
    "\n",
    "# 📦 Préparation des données MNIST\n",
    "transform = transforms.Compose([\n",
    "    transforms.Grayscale(num_output_channels=3),\n",
    "    transforms.Resize((224, 224)),\n",
    "    transforms.ToTensor()\n",
    "])\n",
    "\n",
    "train_dataset = datasets.MNIST(root='./data', train=True, transform=transform, download=True)\n",
    "test_dataset = datasets.MNIST(root='./data', train=False, transform=transform, download=True)\n",
    "\n",
    "train_loader = DataLoader(train_dataset, batch_size=64, shuffle=True)\n",
    "test_loader = DataLoader(test_dataset, batch_size=64, shuffle=False)\n"
   ]
  },
  {
   "cell_type": "code",
   "execution_count": 3,
   "id": "b6ff2da3",
   "metadata": {},
   "outputs": [],
   "source": [
    "\n",
    "# 🧠 CNN Classique\n",
    "class CNN(nn.Module):\n",
    "    def __init__(self):\n",
    "        super(CNN, self).__init__()\n",
    "        self.net = nn.Sequential(\n",
    "            nn.Conv2d(3, 32, kernel_size=3, padding=1),\n",
    "            nn.ReLU(),\n",
    "            nn.MaxPool2d(2),\n",
    "            nn.Conv2d(32, 64, kernel_size=3, padding=1),\n",
    "            nn.ReLU(),\n",
    "            nn.MaxPool2d(2),\n",
    "            nn.Flatten(),\n",
    "            nn.Linear(64*56*56, 128),\n",
    "            nn.ReLU(),\n",
    "            nn.Dropout(0.5),\n",
    "            nn.Linear(128, 10)\n",
    "        )\n",
    "\n",
    "    def forward(self, x):\n",
    "        return self.net(x)\n"
   ]
  },
  {
   "cell_type": "code",
   "execution_count": 4,
   "id": "e4ca6e4d",
   "metadata": {},
   "outputs": [],
   "source": [
    "\n",
    "# 🚂 Fonction d'entraînement générique\n",
    "def train_model(model, name, epochs=3, lr=1e-4):\n",
    "    optimizer = optim.Adam(model.parameters(), lr=lr)\n",
    "    criterion = nn.CrossEntropyLoss()\n",
    "    losses = []\n",
    "    start = time.time()\n",
    "    model.train()\n",
    "    for epoch in range(epochs):\n",
    "        total_loss = 0\n",
    "        for images, labels in train_loader:\n",
    "            images, labels = images.to(device), labels.to(device)\n",
    "            outputs = model(images)\n",
    "            loss = criterion(outputs, labels)\n",
    "            optimizer.zero_grad()\n",
    "            loss.backward()\n",
    "            optimizer.step()\n",
    "            total_loss += loss.item()\n",
    "        avg_loss = total_loss / len(train_loader)\n",
    "        losses.append(avg_loss)\n",
    "        print(f\"{name} Epoch {epoch+1}, Loss: {avg_loss:.4f}\")\n",
    "    total_time = time.time() - start\n",
    "    print(f\"{name} Training Time: {total_time:.2f}s\")\n",
    "    return losses, total_time\n"
   ]
  },
  {
   "cell_type": "code",
   "execution_count": 5,
   "id": "c31e989b",
   "metadata": {},
   "outputs": [],
   "source": [
    "\n",
    "# 🎯 Fonction d'évaluation\n",
    "def evaluate(model, name):\n",
    "    model.eval()\n",
    "    y_true, y_pred = [], []\n",
    "    with torch.no_grad():\n",
    "        for images, labels in test_loader:\n",
    "            images = images.to(device)\n",
    "            outputs = model(images)\n",
    "            preds = outputs.argmax(dim=1).cpu()\n",
    "            y_true.extend(labels)\n",
    "            y_pred.extend(preds)\n",
    "    acc = accuracy_score(y_true, y_pred)\n",
    "    f1 = f1_score(y_true, y_pred, average='weighted')\n",
    "    print(f\"{name} - Accuracy: {acc:.4f}, F1-score: {f1:.4f}\")\n",
    "    return acc, f1\n"
   ]
  },
  {
   "cell_type": "code",
   "execution_count": 6,
   "id": "bba12fa9",
   "metadata": {},
   "outputs": [],
   "source": [
    "\n",
    "# 🧪 Modèle ViT simple\n",
    "class PatchEmbedding(nn.Module):\n",
    "    def __init__(self, in_channels=3, patch_size=16, emb_size=768, img_size=224):\n",
    "        super().__init__()\n",
    "        self.proj = nn.Conv2d(in_channels, emb_size, kernel_size=patch_size, stride=patch_size)\n",
    "        self.cls_token = nn.Parameter(torch.randn(1, 1, emb_size))\n",
    "        self.pos_embed = nn.Parameter(torch.randn((img_size // patch_size)**2 + 1, emb_size))\n",
    "\n",
    "    def forward(self, x):\n",
    "        B = x.shape[0]\n",
    "        x = self.proj(x).flatten(2).transpose(1, 2)\n",
    "        cls_tokens = self.cls_token.expand(B, -1, -1)\n",
    "        x = torch.cat((cls_tokens, x), dim=1)\n",
    "        x += self.pos_embed\n",
    "        return x\n",
    "\n",
    "class TransformerEncoderBlock(nn.Module):\n",
    "    def __init__(self, emb_size=768, heads=8, dropout=0.1, forward_expansion=4):\n",
    "        super().__init__()\n",
    "        self.ln1 = nn.LayerNorm(emb_size)\n",
    "        self.attn = nn.MultiheadAttention(embed_dim=emb_size, num_heads=heads, batch_first=True)\n",
    "        self.ln2 = nn.LayerNorm(emb_size)\n",
    "        self.mlp = nn.Sequential(\n",
    "            nn.Linear(emb_size, forward_expansion * emb_size),\n",
    "            nn.GELU(),\n",
    "            nn.Linear(forward_expansion * emb_size, emb_size)\n",
    "        )\n",
    "\n",
    "    def forward(self, x):\n",
    "        attn_out, _ = self.attn(x, x, x)\n",
    "        x = self.ln1(x + attn_out)\n",
    "        x = self.ln2(x + self.mlp(x))\n",
    "        return x\n",
    "\n",
    "class ViT(nn.Module):\n",
    "    def __init__(self, img_size=224, patch_size=16, emb_size=768, num_classes=10, depth=6, heads=8):\n",
    "        super().__init__()\n",
    "        self.patch_embed = PatchEmbedding(3, patch_size, emb_size, img_size)\n",
    "        self.encoder = nn.Sequential(*[TransformerEncoderBlock(emb_size, heads) for _ in range(depth)])\n",
    "        self.cls_head = nn.Linear(emb_size, num_classes)\n",
    "\n",
    "    def forward(self, x):\n",
    "        x = self.patch_embed(x)\n",
    "        x = self.encoder(x)\n",
    "        cls_token = x[:, 0]\n",
    "        return self.cls_head(cls_token)\n"
   ]
  },
  {
   "cell_type": "code",
   "execution_count": null,
   "id": "0f8e6e6e",
   "metadata": {},
   "outputs": [
    {
     "name": "stderr",
     "output_type": "stream",
     "text": [
      "/home/med/jupyter_env/lib/python3.12/site-packages/torchvision/models/_utils.py:208: UserWarning: The parameter 'pretrained' is deprecated since 0.13 and may be removed in the future, please use 'weights' instead.\n",
      "  warnings.warn(\n",
      "/home/med/jupyter_env/lib/python3.12/site-packages/torchvision/models/_utils.py:223: UserWarning: Arguments other than a weight enum or `None` for 'weights' are deprecated since 0.13 and may be removed in the future. The current behavior is equivalent to passing `weights=VGG16_Weights.IMAGENET1K_V1`. You can also use `weights=VGG16_Weights.DEFAULT` to get the most up-to-date weights.\n",
      "  warnings.warn(msg)\n",
      "/home/med/jupyter_env/lib/python3.12/site-packages/torchvision/models/_utils.py:223: UserWarning: Arguments other than a weight enum or `None` for 'weights' are deprecated since 0.13 and may be removed in the future. The current behavior is equivalent to passing `weights=AlexNet_Weights.IMAGENET1K_V1`. You can also use `weights=AlexNet_Weights.DEFAULT` to get the most up-to-date weights.\n",
      "  warnings.warn(msg)\n"
     ]
    },
    {
     "name": "stdout",
     "output_type": "stream",
     "text": [
      "\n",
      "=== Training CNN ===\n",
      "CNN Epoch 1, Loss: 0.4882\n",
      "CNN Epoch 2, Loss: 0.2994\n"
     ]
    }
   ],
   "source": [
    "\n",
    "# 🧾 Comparaison des modèles\n",
    "results = []\n",
    "\n",
    "models_info = [\n",
    "    (\"CNN\", CNN()),\n",
    "    (\"VGG16\", models.vgg16(pretrained=True)),\n",
    "    (\"AlexNet\", models.alexnet(pretrained=True)),\n",
    "    (\"ViT\", ViT())\n",
    "]\n",
    "\n",
    "for name, model in models_info:\n",
    "    print(f\"\\n=== Training {name} ===\")\n",
    "    if name in [\"VGG16\", \"AlexNet\"]:\n",
    "        model.classifier[-1] = nn.Linear(model.classifier[-1].in_features, 10)\n",
    "\n",
    "    model = model.to(device)\n",
    "    losses, train_time = train_model(model, name, epochs=3)\n",
    "    acc, f1 = evaluate(model, name)\n",
    "\n",
    "    results.append({\n",
    "        \"Model\": name,\n",
    "        \"Accuracy\": acc,\n",
    "        \"F1-Score\": f1,\n",
    "        \"Training Time (s)\": train_time\n",
    "    })\n"
   ]
  },
  {
   "cell_type": "code",
   "execution_count": null,
   "id": "24eb791e",
   "metadata": {},
   "outputs": [],
   "source": [
    "\n",
    "# 📊 Résultats finaux\n",
    "df = pd.DataFrame(results)\n",
    "print(df)\n",
    "\n",
    "df.plot(x=\"Model\", y=[\"Accuracy\", \"F1-Score\"], kind=\"bar\", title=\"Comparaison des modèles\", figsize=(10, 5))\n",
    "plt.ylabel(\"Score\")\n",
    "plt.grid(True)\n",
    "plt.show()\n"
   ]
  },
  {
   "cell_type": "code",
   "execution_count": null,
   "id": "05297122-7eea-4903-a539-185d4f8a12a7",
   "metadata": {},
   "outputs": [],
   "source": []
  }
 ],
 "metadata": {
  "kernelspec": {
   "display_name": "Python 3 (ipykernel)",
   "language": "python",
   "name": "python3"
  },
  "language_info": {
   "codemirror_mode": {
    "name": "ipython",
    "version": 3
   },
   "file_extension": ".py",
   "mimetype": "text/x-python",
   "name": "python",
   "nbconvert_exporter": "python",
   "pygments_lexer": "ipython3",
   "version": "3.12.3"
  }
 },
 "nbformat": 4,
 "nbformat_minor": 5
}
